{
 "cells": [
  {
   "cell_type": "code",
   "execution_count": 1,
   "id": "23a6c733",
   "metadata": {},
   "outputs": [],
   "source": [
    "import numpy as np"
   ]
  },
  {
   "cell_type": "code",
   "execution_count": 2,
   "id": "6420b6b3",
   "metadata": {},
   "outputs": [],
   "source": [
    "def f(x:np.array)->float:\n",
    "    return (1/ 2) * (x[0] - 2) **2 + (x[1] -1) ** 2"
   ]
  },
  {
   "cell_type": "code",
   "execution_count": 3,
   "id": "8093de50",
   "metadata": {},
   "outputs": [],
   "source": [
    "def grad_f(x:np.array)->float:\n",
    "    return np.array([x[0] - 2, 2 * (x[1] - 1)])"
   ]
  },
  {
   "cell_type": "code",
   "execution_count": 4,
   "id": "0f035eef",
   "metadata": {},
   "outputs": [
    {
     "data": {
      "text/plain": [
       "array([0, 0])"
      ]
     },
     "execution_count": 4,
     "metadata": {},
     "output_type": "execute_result"
    }
   ],
   "source": [
    "-(1) * grad_f([2, 1])"
   ]
  },
  {
   "cell_type": "code",
   "execution_count": 5,
   "id": "2ccf0e18",
   "metadata": {},
   "outputs": [],
   "source": [
    "def busca_linear_inexata(f, grad_f, x_0)-> np.array:\n",
    "    eta = 1e-2\n",
    "\n",
    "    d = lambda x: (-1) * grad_f(x)\n",
    "\n",
    "   \n",
    "\n",
    "    x_t = x_0\n",
    "\n",
    "    while (np.linalg.norm(grad_f(x_t)) > 1e-4):\n",
    "        print(np.linalg.norm(x_t))\n",
    "\n",
    "        t = 1\n",
    "\n",
    "        while (f(x_t + t * d(x_t)) > f(x_t) + eta*t * np.inner(grad_f(x_t), d(x_t))):\n",
    "            t /=2\n",
    "    \n",
    "        x_t = x_t + t * d(x_t)\n",
    "\n",
    "\n",
    "    return x_t"
   ]
  },
  {
   "cell_type": "code",
   "execution_count": 6,
   "id": "59e99960",
   "metadata": {},
   "outputs": [
    {
     "name": "stdout",
     "output_type": "stream",
     "text": [
      "3944.616584663204\n",
      "3398.0005885814676\n"
     ]
    },
    {
     "data": {
      "text/plain": [
       "array([2., 1.])"
      ]
     },
     "execution_count": 6,
     "metadata": {},
     "output_type": "execute_result"
    }
   ],
   "source": [
    "busca_linear_inexata(f, grad_f, np.array([2000, 3400]))"
   ]
  },
  {
   "cell_type": "code",
   "execution_count": 7,
   "id": "3a28dd7f",
   "metadata": {},
   "outputs": [],
   "source": [
    "def f_2(x):\n",
    "    return x[0] ** 2 + x[0] * x[1] + x[1]**2"
   ]
  },
  {
   "cell_type": "code",
   "execution_count": 8,
   "id": "1609105a",
   "metadata": {},
   "outputs": [],
   "source": [
    "def grad_f_2(x):\n",
    "    return np.array([2* x[0] + x[1], x[0] + 2*x[1]])"
   ]
  },
  {
   "cell_type": "code",
   "execution_count": 9,
   "id": "fb76b382",
   "metadata": {},
   "outputs": [
    {
     "name": "stdout",
     "output_type": "stream",
     "text": [
      "3.605551275463989\n",
      "1.8027756377319946\n",
      "0.9013878188659973\n",
      "0.45069390943299864\n",
      "0.22534695471649932\n",
      "0.11267347735824966\n",
      "0.05633673867912483\n",
      "0.028168369339562415\n",
      "0.014084184669781208\n",
      "0.007042092334890604\n",
      "0.003521046167445302\n",
      "0.001760523083722651\n",
      "0.0008802615418613255\n",
      "0.00044013077093066273\n",
      "0.00022006538546533137\n",
      "0.00011003269273266568\n",
      "5.501634636633284e-05\n"
     ]
    },
    {
     "data": {
      "text/plain": [
       "array([-2.28881836e-05, -1.52587891e-05])"
      ]
     },
     "execution_count": 9,
     "metadata": {},
     "output_type": "execute_result"
    }
   ],
   "source": [
    "busca_linear_inexata(f_2, grad_f_2, np.array([2, 3]))"
   ]
  },
  {
   "cell_type": "code",
   "execution_count": 10,
   "id": "2f062594",
   "metadata": {},
   "outputs": [],
   "source": [
    "def h(x): # função de entropia negativa\n",
    "    n = len(x)\n",
    "    sum_ = 0\n",
    "\n",
    "    for i in range(n):\n",
    "        sum_ += x[i] * np.log(x[i]) - x[i]\n",
    "\n",
    "    return  sum_"
   ]
  },
  {
   "cell_type": "code",
   "execution_count": 11,
   "id": "7a553b10",
   "metadata": {},
   "outputs": [],
   "source": [
    "def grad_h(x): # gradiente da entropia negativa (vetor de ln(x_i))\n",
    "    return np.log(x)"
   ]
  },
  {
   "cell_type": "code",
   "execution_count": 12,
   "id": "14b26c4c",
   "metadata": {},
   "outputs": [],
   "source": [
    "def inv_grad_h(x): # inversa do gradiente da entropia negativa\n",
    "    return np.exp(x)"
   ]
  },
  {
   "cell_type": "code",
   "execution_count": 13,
   "id": "10beddfa",
   "metadata": {},
   "outputs": [],
   "source": [
    "def h_2(x): \n",
    "    return (1/2) * np.linalg.norm(x) ** 2"
   ]
  },
  {
   "cell_type": "code",
   "execution_count": 14,
   "id": "9fc20734",
   "metadata": {},
   "outputs": [],
   "source": [
    "def grad_h_2(x):\n",
    "    return x"
   ]
  },
  {
   "cell_type": "code",
   "execution_count": 15,
   "id": "1d21d568",
   "metadata": {},
   "outputs": [],
   "source": [
    "def inv_grad_h_2(x):\n",
    "    return x"
   ]
  },
  {
   "cell_type": "code",
   "execution_count": 39,
   "id": "4a925fab",
   "metadata": {},
   "outputs": [],
   "source": [
    "def gradiente_espelho(f, grad_f, inv_grad_h, grad_h, x0):\n",
    "\n",
    "    xt = x0\n",
    "\n",
    "    eta = 1e-1\n",
    "\n",
    "    while (np.linalg.norm(grad_f(xt)) > 1e-8):\n",
    "\n",
    "        xt = inv_grad_h(grad_h(xt) - eta * grad_f(xt))\n",
    "    \n",
    "    return xt"
   ]
  },
  {
   "cell_type": "code",
   "execution_count": 41,
   "id": "51415fab",
   "metadata": {},
   "outputs": [
    {
     "data": {
      "text/plain": [
       "array([1.99999999, 1.        ])"
      ]
     },
     "execution_count": 41,
     "metadata": {},
     "output_type": "execute_result"
    }
   ],
   "source": [
    "gradiente_espelho(f, grad_f, inv_grad_h, grad_h, np.array([200, 30]))"
   ]
  }
 ],
 "metadata": {
  "kernelspec": {
   "display_name": "base",
   "language": "python",
   "name": "python3"
  },
  "language_info": {
   "codemirror_mode": {
    "name": "ipython",
    "version": 3
   },
   "file_extension": ".py",
   "mimetype": "text/x-python",
   "name": "python",
   "nbconvert_exporter": "python",
   "pygments_lexer": "ipython3",
   "version": "3.12.4"
  }
 },
 "nbformat": 4,
 "nbformat_minor": 5
}
