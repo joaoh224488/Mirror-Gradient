{
 "cells": [
  {
   "cell_type": "code",
   "execution_count": 1,
   "id": "0fd54de8",
   "metadata": {},
   "outputs": [],
   "source": [
    "from read_instance import *\n",
    "from mirror_gradient_descent import *"
   ]
  },
  {
   "cell_type": "code",
   "execution_count": 2,
   "id": "46a1bb17",
   "metadata": {},
   "outputs": [],
   "source": [
    "mi = 100\n",
    "t0 = 0.1"
   ]
  },
  {
   "cell_type": "code",
   "execution_count": 3,
   "id": "8db43007",
   "metadata": {},
   "outputs": [
    {
     "name": "stdout",
     "output_type": "stream",
     "text": [
      "[  0   0   0 ... 818 819 819]\n",
      "[605 606 607 ...  47  51  52]\n",
      "[1. 1. 1. ... 1. 1. 1.]\n",
      "5076\n"
     ]
    }
   ],
   "source": [
    "c, A, b = read_instance('vetores_formato.txt')"
   ]
  },
  {
   "cell_type": "code",
   "execution_count": 4,
   "id": "b1078475",
   "metadata": {},
   "outputs": [],
   "source": [
    "def f(x):\n",
    "    return c.T @ x + (mi / 2) * (np.linalg.norm(A @ x - b)) ** 2"
   ]
  },
  {
   "cell_type": "code",
   "execution_count": 5,
   "id": "5764fb73",
   "metadata": {},
   "outputs": [],
   "source": [
    "def grad_f(x):\n",
    "    \n",
    "    return c + (mi * A.T @ (A @ x - b))"
   ]
  },
  {
   "cell_type": "code",
   "execution_count": 6,
   "id": "20824481",
   "metadata": {},
   "outputs": [
    {
     "name": "stdout",
     "output_type": "stream",
     "text": [
      "[101.00501671   0.         101.00501671 ...   0.           0.\n",
      "   0.        ]\n",
      "[102.020134   0.       102.020134 ...   0.         0.         0.      ]\n"
     ]
    },
    {
     "name": "stderr",
     "output_type": "stream",
     "text": [
      "c:\\Users\\JoãoPereira\\OneDrive - bitkalabs.com.br\\Desktop\\Gradiente_espelho\\mirror_gradient_descent.py:17: RuntimeWarning: overflow encountered in exp\n",
      "  return np.exp(x)\n",
      "c:\\Users\\JoãoPereira\\OneDrive - bitkalabs.com.br\\Desktop\\Gradiente_espelho\\mirror_gradient_descent.py:14: RuntimeWarning: divide by zero encountered in log\n",
      "  return np.log(x)\n",
      "c:\\Users\\JoãoPereira\\OneDrive - bitkalabs.com.br\\Desktop\\Gradiente_espelho\\mirror_gradient_descent.py:37: RuntimeWarning: invalid value encountered in subtract\n",
      "  xt = inv_grad_h(grad_h(xt) - eta * grad_f(xt))\n"
     ]
    }
   ],
   "source": [
    "x_star = mirror_gradient(f, grad_f, inv_grad_h, grad_h, np.full(A.shape[1], 100))"
   ]
  },
  {
   "cell_type": "code",
   "execution_count": 10,
   "id": "a3103f86",
   "metadata": {},
   "outputs": [
    {
     "data": {
      "text/plain": [
       "array([1.02020134e+002, 1.02020134e+002, 1.02020134e+002, 1.02020134e+002,\n",
       "       9.60789439e+001, 9.60789439e+001, 1.00000000e+002, 6.31283646e+001,\n",
       "                   inf,             inf,             inf,             inf,\n",
       "                   inf,             inf,             inf,             inf,\n",
       "                   inf,             inf,             inf, 8.86920437e+001,\n",
       "       1.19721736e+002, 4.05519997e+002, 9.48589711e-172, 1.04645762e-094,\n",
       "       1.00000000e+002, 1.00000000e+002])"
      ]
     },
     "execution_count": 10,
     "metadata": {},
     "output_type": "execute_result"
    }
   ],
   "source": [
    "x_star[x_star>0]"
   ]
  },
  {
   "cell_type": "code",
   "execution_count": 8,
   "id": "30bda878",
   "metadata": {},
   "outputs": [
    {
     "data": {
      "text/plain": [
       "nan"
      ]
     },
     "execution_count": 8,
     "metadata": {},
     "output_type": "execute_result"
    }
   ],
   "source": [
    "np.inner(c, x_star)"
   ]
  }
 ],
 "metadata": {
  "kernelspec": {
   "display_name": "base",
   "language": "python",
   "name": "python3"
  },
  "language_info": {
   "codemirror_mode": {
    "name": "ipython",
    "version": 3
   },
   "file_extension": ".py",
   "mimetype": "text/x-python",
   "name": "python",
   "nbconvert_exporter": "python",
   "pygments_lexer": "ipython3",
   "version": "3.12.4"
  }
 },
 "nbformat": 4,
 "nbformat_minor": 5
}
